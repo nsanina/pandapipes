{
 "cells": [
  {
   "cell_type": "markdown",
   "metadata": {},
   "source": [
    "# Plotting Colormaps\n",
    "\n",
    "You can use colormaps to colour your network plots in order to get a quick and simple overview of pipe flow, velocity, temperature and pressure. The plotting module provides functions to easily modify your junction and pipe collections. It also provides colourbars to match the colourcodes to the according numerical values."
   ]
  },
  {
   "cell_type": "markdown",
   "metadata": {},
   "source": [
    "### Continuous Colormaps\n",
    "\n",
    "First, we import all needed libraries. Attention: Here you need both programes Pandapower and Pandapipes."
   ]
  },
  {
   "cell_type": "code",
   "execution_count": null,
   "metadata": {},
   "outputs": [],
   "source": [
    "import pandapipes as pp\n",
    "import pandapipes.networks as nw\n",
    "import pandapipes.plotting as plt\n",
    "import pandapower.plotting as plot"
   ]
  },
  {
   "cell_type": "markdown",
   "metadata": {},
   "source": [
    "Now, import a network from the pandapipes.network libary or create an own network. If you choose the last one go to 'create_a_simple_network'. Else you do:"
   ]
  },
  {
   "cell_type": "code",
   "execution_count": null,
   "metadata": {},
   "outputs": [],
   "source": [
    "net = nw. ..."
   ]
  },
  {
   "cell_type": "markdown",
   "metadata": {},
   "source": [
    "In the next step you have to create a colormap for junctions and/or pipes. In case of junctions you can create a colormap for the pressure or temperature and for the pipe you define the colormap dependent on the flow and velocity inside the pipe. In this step you use the pandapower library"
   ]
  },
  {
   "cell_type": "markdown",
   "metadata": {},
   "source": [
    "Colormap for junctions:"
   ]
  },
  {
   "cell_type": "code",
   "execution_count": null,
   "metadata": {},
   "outputs": [],
   "source": [
    "#colormap for temperature\n",
    "cmap_list_temp = [(200,\"red\"),(240,\"yellow\"),(280,\"green\"),(320,\"yellow\"),(360,\"red\")]\n",
    "#here you use the Pandapower library\n",
    "cmap_temp,norm_temp = plot.cmap_continuous(cmap_list_temp)\n",
    "\n",
    "#colormap for pressure\n",
    "cmap_list_p = [(0.02,'red'),(1,'green')]\n",
    "cmap_p, norm_p = plot.cmap_continuous(cmap_list_p)"
   ]
  },
  {
   "cell_type": "markdown",
   "metadata": {},
   "source": [
    "Colormap for pipes:"
   ]
  },
  {
   "cell_type": "code",
   "execution_count": null,
   "metadata": {},
   "outputs": [],
   "source": [
    "#colormap for pipe flow\n",
    "cmap_list_mdot = [(-0.005, \"red\"), (-0.0005, \"yellow\"), (0, \"green\"), (0.002, \"yellow\"), (0.1, \"red\")]\n",
    "cmap_mdot, norm_mdot = plot.cmap_continuous(cmap_list_mdot)\n",
    "\n",
    "#colormap for velocity\n",
    "cmap_list_v = [(-0.3, \"red\"), (0.005, \"yellow\"), (0.2, \"green\"), (3, \"yellow\"), (5, \"red\")]\n",
    "cmap_v, norm_v = plot.cmap_continuous(cmap_list_v)"
   ]
  },
  {
   "cell_type": "markdown",
   "metadata": {},
   "source": [
    "Afterwards you have to create a junction/pipes collection for each property. Here you use the pandapipes library."
   ]
  },
  {
   "cell_type": "markdown",
   "metadata": {},
   "source": [
    "Set junction collenction:"
   ]
  },
  {
   "cell_type": "code",
   "execution_count": null,
   "metadata": {},
   "outputs": [],
   "source": [
    "#Junction collection for temperature\n",
    "#now use pandapipes library\n",
    "junction_collection_temp = plt.create_junction_collection(net, junctions = None, z = net.res_junctions.t_k, patch_type = \"circle\", size=6, cmap = cmap_temp, norm = norm_temp, cbar_title = \"Junction Temperature\")\n",
    "\n",
    "#Junction collection for pressure\n",
    "junction_collection_p = plt.create_junction_collection(net, junctions = None, z = net.res_junction.p_bar,patch_type = 'circle', size = 6, cmap = cmap_p, norm = norm_p, cbar_title = 'Junction Pressure')"
   ]
  },
  {
   "cell_type": "markdown",
   "metadata": {},
   "source": [
    "Set pipe collection:"
   ]
  },
  {
   "cell_type": "code",
   "execution_count": null,
   "metadata": {},
   "outputs": [],
   "source": [
    "#Pipe collection for flow\n",
    "pipe_collection_mdot = plt.create_pipe_collection(net, pipes = None, z = net.res_pipe.mdot_from_kg_per_s, linewidths = 1, cmap = cmap_mdot, norm = norm_mdot)\n",
    "\n",
    "#Pipe collection for velocity\n",
    "pipe_collection_v = plt.create_pipe_collection(net, pipes = None, z = net.res_pipe.v_from_m_per_s, linewidths = 1, cmap = cmap_v, norm = norm_v)"
   ]
  },
  {
   "cell_type": "markdown",
   "metadata": {},
   "source": [
    "At the end you can plot your collenctions:"
   ]
  },
  {
   "cell_type": "code",
   "execution_count": null,
   "metadata": {},
   "outputs": [],
   "source": [
    "#Plot pressure and flow\n",
    "plt.draw_collections([junction_collection_p,pipe_collection_mdot])\n",
    "#Plot temperature and velocity\n",
    "plt.draw_collections([junction_collection_temp, pipe_collection_v])"
   ]
  }
 ],
 "metadata": {
  "kernelspec": {
   "display_name": "Python 3",
   "language": "python",
   "name": "python3"
  },
  "language_info": {
   "codemirror_mode": {
    "name": "ipython",
    "version": 3
   },
   "file_extension": ".py",
   "mimetype": "text/x-python",
   "name": "python",
   "nbconvert_exporter": "python",
   "pygments_lexer": "ipython3",
   "version": "3.8.3"
  }
 },
 "nbformat": 4,
 "nbformat_minor": 4
}
